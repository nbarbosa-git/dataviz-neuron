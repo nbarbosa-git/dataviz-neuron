{
  "nbformat": 4,
  "nbformat_minor": 0,
  "metadata": {
    "colab": {
      "name": "Dataviz_neuron.ipynb",
      "provenance": [],
      "authorship_tag": "ABX9TyN4Z97A8bJQXOocvtEAQ9dO",
      "include_colab_link": true
    },
    "kernelspec": {
      "name": "python3",
      "display_name": "Python 3"
    }
  },
  "cells": [
    {
      "cell_type": "markdown",
      "metadata": {
        "id": "view-in-github",
        "colab_type": "text"
      },
      "source": [
        "<a href=\"https://colab.research.google.com/github/nicholasrichers/dataviz-neuron/blob/master/Dataviz_neuron.ipynb\" target=\"_parent\"><img src=\"https://colab.research.google.com/assets/colab-badge.svg\" alt=\"Open In Colab\"/></a>"
      ]
    },
    {
      "cell_type": "markdown",
      "metadata": {
        "id": "O9VfGFYFt2cI",
        "colab_type": "text"
      },
      "source": [
        "# Visualização de Dados em python"
      ]
    },
    {
      "cell_type": "markdown",
      "metadata": {
        "id": "1H5stCuvt2XX",
        "colab_type": "text"
      },
      "source": [
        "índice\n",
        "\n",
        "\n",
        "Sugestões de gráficos para o curso: \n",
        "\n",
        "\t•\tBox Plot;\n",
        "\t•\tGráfico violino;\n",
        "\t•\tHeatMap;\n",
        "\t•\tHeatMap com cluster;\n",
        "\t•\tGráficos de distribuição;\n",
        "\t•\tGráfico de superfície;\n",
        "\t•\tHistograma 2D;\n",
        "\t•\tGráfico de barras circular;\n",
        "\t•\tSankey;\n",
        "\t•\tGráfico em Barras;\n",
        "\t•\tTemporal em linha;\n",
        "\t•\tTernário;  \n",
        "\n",
        "\n",
        "\n",
        "\n",
        "\n",
        "Cursos: Alura, DSA, Datacamp\n",
        "- intro Dataviz\n",
        "- mpl/plotly\n",
        "- seaborn\n",
        "- bokeh\n",
        "- cufflinks / folium\n",
        "- time series\n"
      ]
    },
    {
      "cell_type": "code",
      "metadata": {
        "id": "dJtVxND-txDB",
        "colab_type": "code",
        "colab": {}
      },
      "source": [
        ""
      ],
      "execution_count": null,
      "outputs": []
    },
    {
      "cell_type": "code",
      "metadata": {
        "id": "jzHiacJ6txCD",
        "colab_type": "code",
        "colab": {}
      },
      "source": [
        ""
      ],
      "execution_count": null,
      "outputs": []
    },
    {
      "cell_type": "code",
      "metadata": {
        "id": "JGj5PyyGtw3E",
        "colab_type": "code",
        "colab": {}
      },
      "source": [
        ""
      ],
      "execution_count": null,
      "outputs": []
    },
    {
      "cell_type": "code",
      "metadata": {
        "id": "sdH0R_ebO3Uv",
        "colab_type": "code",
        "colab": {}
      },
      "source": [
        ""
      ],
      "execution_count": null,
      "outputs": []
    },
    {
      "cell_type": "code",
      "metadata": {
        "id": "KoYP2l9DO3jJ",
        "colab_type": "code",
        "colab": {}
      },
      "source": [
        ""
      ],
      "execution_count": null,
      "outputs": []
    },
    {
      "cell_type": "code",
      "metadata": {
        "id": "1JXsyaUuO3gw",
        "colab_type": "code",
        "colab": {}
      },
      "source": [
        ""
      ],
      "execution_count": null,
      "outputs": []
    },
    {
      "cell_type": "code",
      "metadata": {
        "id": "AEBEyDPwO3dI",
        "colab_type": "code",
        "colab": {}
      },
      "source": [
        ""
      ],
      "execution_count": null,
      "outputs": []
    },
    {
      "cell_type": "code",
      "metadata": {
        "id": "_tIJ4TpCO3SF",
        "colab_type": "code",
        "colab": {}
      },
      "source": [
        "# load libraries and set plot parameters\n",
        "import numpy as np\n",
        "import PrettyTable as pt\n",
        "\n",
        "import matplotlib.pyplot as plt\n",
        "%matplotlib inline\n",
        "\n",
        "from IPython.display import set_matplotlib_formats\n",
        "set_matplotlib_formats('pdf', 'png')\n",
        "plt.rcParams['savefig.dpi'] = 75\n",
        "\n",
        "plt.rcParams['figure.autolayout'] = False\n",
        "plt.rcParams['figure.figsize'] = 10, 6\n",
        "plt.rcParams['axes.labelsize'] = 18\n",
        "plt.rcParams['axes.titlesize'] = 20\n",
        "plt.rcParams['font.size'] = 16\n",
        "plt.rcParams['lines.linewidth'] = 2.0\n",
        "plt.rcParams['lines.markersize'] = 8\n",
        "plt.rcParams['legend.fontsize'] = 14\n",
        "\n",
        "plt.rcParams['text.usetex'] = True\n",
        "plt.rcParams['font.family'] = \"serif\"\n",
        "plt.rcParams['font.serif'] = \"cm\"\n",
        "plt.rcParams['text.latex.preamble'] = \"\\usepackage{subdepth}, \\usepackage{type1cm}\""
      ],
      "execution_count": null,
      "outputs": []
    }
  ]
}